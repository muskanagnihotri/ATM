{
 "cells": [
  {
   "cell_type": "code",
   "execution_count": null,
   "id": "e9eb2892-a320-440a-898b-36c56a142bfe",
   "metadata": {},
   "outputs": [
    {
     "name": "stdout",
     "output_type": "stream",
     "text": [
      "\n",
      "Welcome to the ATM.\n",
      "1. Create Account\n",
      "2. Access Account\n",
      "3. Exit\n"
     ]
    },
    {
     "name": "stdout",
     "output_type": "stream",
     "text": [
      "Enter your choice:  1\n",
      "Enter account holder's name:  2\n",
      "Enter initial balance:  400\n"
     ]
    },
    {
     "name": "stdout",
     "output_type": "stream",
     "text": [
      "Account created successfully for 2. Initial balance: 400.0\n",
      "\n",
      "Welcome to the ATM.\n",
      "1. Create Account\n",
      "2. Access Account\n",
      "3. Exit\n"
     ]
    }
   ],
   "source": [
    "class Account:\n",
    "    def __init__(self, name, balance):\n",
    "        self.name = name\n",
    "        self.balance = balance\n",
    "        \n",
    "    def deposit(self, amount):\n",
    "        if amount > 0:\n",
    "            self.balance += amount\n",
    "            print(f\"Deposit of {amount} successful. New balance: {self.balance}\")\n",
    "        else:\n",
    "            print(\"Invalid deposit amount.\")\n",
    "\n",
    "    def withdraw(self, amount):\n",
    "        if amount > 0 and amount <= self.balance:\n",
    "            self.balance -= amount\n",
    "            print(f\"Withdrawal of {amount} successful. New balance: {self.balance}\")\n",
    "        else:\n",
    "            print(\"Invalid withdrawal amount or insufficient balance.\")\n",
    "    def check_balance(self):\n",
    "        print(f\"Current balance for account {self.name}: {self.balance}\")\n",
    "\n",
    "class ATM:\n",
    "    def __init__(self):\n",
    "        self.accounts = {}\n",
    "    def create_account(self, name, initial_balance):\n",
    "        if name not in self.accounts:\n",
    "            self.accounts[name] = Account(name, initial_balance)\n",
    "            print(f\"Account created successfully for {name}. Initial balance: {initial_balance}\")\n",
    "        else:\n",
    "            print(\"Account already exists.\")\n",
    "    def access_account(self, name):\n",
    "        if name in self.accounts:\n",
    "            return self.accounts[name]\n",
    "        else:\n",
    "            print(\"Account does not exist.\")\n",
    "            return None\n",
    "def main():\n",
    "    atm = ATM()\n",
    "    while True:\n",
    "        print(\"\\nWelcome to the ATM.\")\n",
    "        print(\"1. Create Account\")\n",
    "        print(\"2. Access Account\")\n",
    "        print(\"3. Exit\")\n",
    "        choice = input(\"Enter your choice: \")\n",
    "        if choice == '1':\n",
    "            name = input(\"Enter account holder's name: \")\n",
    "            initial_balance = float(input(\"Enter initial balance: \"))\n",
    "            atm.create_account(name, initial_balance)\n",
    "        elif choice == '2':\n",
    "            name = input(\"Enter account holder's name: \")\n",
    "            account = atm.access_account(name)\n",
    "            if account:\n",
    "                while True:\n",
    "                    print(\"\\n1. Deposit\")\n",
    "                    print(\"2. Withdraw\")\n",
    "                    print(\"3. Check Balance\")\n",
    "                    print(\"4. Go back\")\n",
    "                    option = input(\"Enter your option: \")\n",
    "                    if option == '1':\n",
    "                        amount = float(input(\"Enter deposit amount: \"))\n",
    "                        account.deposit(amount)\n",
    "                    elif option == '2':\n",
    "                        amount = float(input(\"Enter withdrawal amount: \"))\n",
    "                        account.withdraw(amount)\n",
    "                    elif option == '3':\n",
    "                        account.check_balance()\n",
    "                    elif option == '4':\n",
    "                        break\n",
    "                    else:\n",
    "                        print(\"Invalid option.\")\n",
    "        elif choice == '3':\n",
    "            print(\"Exiting ATM. Have a nice day!\")\n",
    "            break\n",
    "        else:\n",
    "            print(\"Invalid choice. Please try again.\")\n",
    "if __name__ == \"__main__\":\n",
    "    main()\n"
   ]
  }
 ],
 "metadata": {
  "kernelspec": {
   "display_name": "Python 3 (ipykernel)",
   "language": "python",
   "name": "python3"
  },
  "language_info": {
   "codemirror_mode": {
    "name": "ipython",
    "version": 3
   },
   "file_extension": ".py",
   "mimetype": "text/x-python",
   "name": "python",
   "nbconvert_exporter": "python",
   "pygments_lexer": "ipython3",
   "version": "3.10.12"
  }
 },
 "nbformat": 4,
 "nbformat_minor": 5
}
